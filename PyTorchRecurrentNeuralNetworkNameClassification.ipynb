{
 "cells": [
  {
   "cell_type": "code",
   "execution_count": 1,
   "metadata": {},
   "outputs": [],
   "source": [
    "# Classifying names with a character level Recurrent  Neural Network\n",
    "\n",
    "import pandas as pd\n",
    "import glob\n",
    "import string\n",
    "import torch\n",
    "import torch.nn as nn\n",
    "import random\n",
    "import matplotlib.pyplot as plt\n",
    "from pandas_ml import ConfusionMatrix\n",
    "import numpy as np"
   ]
  },
  {
   "cell_type": "code",
   "execution_count": 2,
   "metadata": {},
   "outputs": [],
   "source": [
    "file_path = 'datasets/name_by_language/names' # declare file dir on OS\n",
    "allFiles = glob.glob(file_path + \"/*.txt\") # save to allFiles var in list"
   ]
  },
  {
   "cell_type": "code",
   "execution_count": 3,
   "metadata": {},
   "outputs": [],
   "source": [
    "names_data = pd.DataFrame() # create empty dataframe\n",
    "list_ = [] # create empty list"
   ]
  },
  {
   "cell_type": "code",
   "execution_count": 4,
   "metadata": {},
   "outputs": [],
   "source": [
    "for file_ in allFiles: # read files from csv\n",
    "    df = pd.read_csv(\n",
    "        file_, sep='/n',\n",
    "        names=['Name'],\n",
    "        engine=\"python\",\n",
    "        error_bad_lines=False)\n",
    "    df['Language'] = str(file_.split('/names\\\\')[-1].split('.')[0])\n",
    "    \n",
    "    list_.append(df)\n",
    "    names_data = pd.concat(list_)"
   ]
  },
  {
   "cell_type": "code",
   "execution_count": 5,
   "metadata": {},
   "outputs": [
    {
     "data": {
      "text/html": [
       "<div>\n",
       "<style scoped>\n",
       "    .dataframe tbody tr th:only-of-type {\n",
       "        vertical-align: middle;\n",
       "    }\n",
       "\n",
       "    .dataframe tbody tr th {\n",
       "        vertical-align: top;\n",
       "    }\n",
       "\n",
       "    .dataframe thead th {\n",
       "        text-align: right;\n",
       "    }\n",
       "</style>\n",
       "<table border=\"1\" class=\"dataframe\">\n",
       "  <thead>\n",
       "    <tr style=\"text-align: right;\">\n",
       "      <th></th>\n",
       "      <th>Name</th>\n",
       "      <th>Language</th>\n",
       "    </tr>\n",
       "  </thead>\n",
       "  <tbody>\n",
       "    <tr>\n",
       "      <th>316</th>\n",
       "      <td>Peisar</td>\n",
       "      <td>Czech</td>\n",
       "    </tr>\n",
       "    <tr>\n",
       "      <th>601</th>\n",
       "      <td>Obinata</td>\n",
       "      <td>Japanese</td>\n",
       "    </tr>\n",
       "    <tr>\n",
       "      <th>243</th>\n",
       "      <td>Ishihara</td>\n",
       "      <td>Japanese</td>\n",
       "    </tr>\n",
       "    <tr>\n",
       "      <th>260</th>\n",
       "      <td>Torres</td>\n",
       "      <td>Spanish</td>\n",
       "    </tr>\n",
       "    <tr>\n",
       "      <th>207</th>\n",
       "      <td>Roijackers</td>\n",
       "      <td>Dutch</td>\n",
       "    </tr>\n",
       "    <tr>\n",
       "      <th>16</th>\n",
       "      <td>Che</td>\n",
       "      <td>Chinese</td>\n",
       "    </tr>\n",
       "    <tr>\n",
       "      <th>438</th>\n",
       "      <td>Suchanka</td>\n",
       "      <td>Czech</td>\n",
       "    </tr>\n",
       "    <tr>\n",
       "      <th>199</th>\n",
       "      <td>Rian</td>\n",
       "      <td>Irish</td>\n",
       "    </tr>\n",
       "    <tr>\n",
       "      <th>147</th>\n",
       "      <td>O'Brian</td>\n",
       "      <td>Irish</td>\n",
       "    </tr>\n",
       "    <tr>\n",
       "      <th>103</th>\n",
       "      <td>Koning</td>\n",
       "      <td>Dutch</td>\n",
       "    </tr>\n",
       "  </tbody>\n",
       "</table>\n",
       "</div>"
      ],
      "text/plain": [
       "           Name  Language\n",
       "316      Peisar     Czech\n",
       "601     Obinata  Japanese\n",
       "243    Ishihara  Japanese\n",
       "260      Torres   Spanish\n",
       "207  Roijackers     Dutch\n",
       "16          Che   Chinese\n",
       "438    Suchanka     Czech\n",
       "199        Rian     Irish\n",
       "147     O'Brian     Irish\n",
       "103      Koning     Dutch"
      ]
     },
     "execution_count": 5,
     "metadata": {},
     "output_type": "execute_result"
    }
   ],
   "source": [
    "names_data.sample(10) # smple 10 names/languages"
   ]
  },
  {
   "cell_type": "code",
   "execution_count": 6,
   "metadata": {},
   "outputs": [],
   "source": [
    "languages = names_data['Language'].unique() # create languages var which holds each unique language as array"
   ]
  },
  {
   "cell_type": "code",
   "execution_count": 7,
   "metadata": {},
   "outputs": [
    {
     "data": {
      "text/plain": [
       "array(['Arabic', 'Chinese', 'Czech', 'Dutch', 'French', 'German', 'Greek',\n",
       "       'Irish', 'Italian', 'Japanese', 'Korean', 'Polish', 'Scottish',\n",
       "       'Spanish', 'Vietnamese'], dtype=object)"
      ]
     },
     "execution_count": 7,
     "metadata": {},
     "output_type": "execute_result"
    }
   ],
   "source": [
    "languages"
   ]
  },
  {
   "cell_type": "code",
   "execution_count": 8,
   "metadata": {},
   "outputs": [
    {
     "data": {
      "text/plain": [
       "15"
      ]
     },
     "execution_count": 8,
     "metadata": {},
     "output_type": "execute_result"
    }
   ],
   "source": [
    "len(languages) # 15 uniques languages"
   ]
  },
  {
   "cell_type": "code",
   "execution_count": 9,
   "metadata": {},
   "outputs": [
    {
     "data": {
      "text/plain": [
       "4994"
      ]
     },
     "execution_count": 9,
     "metadata": {},
     "output_type": "execute_result"
    }
   ],
   "source": [
    "len(names_data) # 4994 names"
   ]
  },
  {
   "cell_type": "code",
   "execution_count": 10,
   "metadata": {},
   "outputs": [
    {
     "data": {
      "text/plain": [
       "4931"
      ]
     },
     "execution_count": 10,
     "metadata": {},
     "output_type": "execute_result"
    }
   ],
   "source": [
    "names_data = names_data.drop_duplicates() # drop duplicate names\n",
    "len(names_data) # 4931 unique names"
   ]
  },
  {
   "cell_type": "code",
   "execution_count": 11,
   "metadata": {},
   "outputs": [
    {
     "data": {
      "text/plain": [
       "\"abcdefghijklmnopqrstuvwxyzABCDEFGHIJKLMNOPQRSTUVWXYZ .,;'\""
      ]
     },
     "execution_count": 11,
     "metadata": {},
     "output_type": "execute_result"
    }
   ],
   "source": [
    "all_letters = string.ascii_letters + \" .,;'\" # set up characters needed for one-hot encoding vector\n",
    "n_letters = len(all_letters)\n",
    "all_letters"
   ]
  },
  {
   "cell_type": "code",
   "execution_count": 12,
   "metadata": {},
   "outputs": [],
   "source": [
    "def name_to_tensor(name): # helper function to one-hot encode the charactes in the nanmes\n",
    "    name_in_tensor = torch.zeros(len(name), 1, n_letters) # init a tensor with all zeros \n",
    "    for i, letter in enumerate(name): # one-hot encoding\n",
    "        name_in_tensor[i][0][all_letters.find(letter)] = 1 \n",
    "    \n",
    "    return name_in_tensor"
   ]
  },
  {
   "cell_type": "code",
   "execution_count": 13,
   "metadata": {},
   "outputs": [
    {
     "data": {
      "text/plain": [
       "tensor([[[1., 0., 0., 0., 0., 0., 0., 0., 0., 0., 0., 0., 0., 0., 0., 0., 0.,\n",
       "          0., 0., 0., 0., 0., 0., 0., 0., 0., 0., 0., 0., 0., 0., 0., 0., 0.,\n",
       "          0., 0., 0., 0., 0., 0., 0., 0., 0., 0., 0., 0., 0., 0., 0., 0., 0.,\n",
       "          0., 0., 0., 0., 0., 0.]]])"
      ]
     },
     "execution_count": 13,
     "metadata": {},
     "output_type": "execute_result"
    }
   ],
   "source": [
    "name_to_tensor('a') # test one-hot encoding helper function"
   ]
  },
  {
   "cell_type": "code",
   "execution_count": 14,
   "metadata": {},
   "outputs": [
    {
     "data": {
      "text/plain": [
       "tensor([[[1., 0., 0., 0., 0., 0., 0., 0., 0., 0., 0., 0., 0., 0., 0., 0., 0.,\n",
       "          0., 0., 0., 0., 0., 0., 0., 0., 0., 0., 0., 0., 0., 0., 0., 0., 0.,\n",
       "          0., 0., 0., 0., 0., 0., 0., 0., 0., 0., 0., 0., 0., 0., 0., 0., 0.,\n",
       "          0., 0., 0., 0., 0., 0.]],\n",
       "\n",
       "        [[0., 0., 0., 0., 0., 0., 0., 0., 0., 0., 0., 0., 0., 0., 0., 0., 0.,\n",
       "          0., 0., 0., 0., 0., 0., 0., 0., 0., 0., 0., 0., 0., 0., 0., 0., 0.,\n",
       "          0., 0., 0., 0., 0., 0., 0., 0., 0., 0., 0., 0., 0., 0., 0., 0., 0.,\n",
       "          0., 1., 0., 0., 0., 0.]],\n",
       "\n",
       "        [[0., 0., 0., 0., 0., 0., 0., 0., 0., 0., 0., 0., 0., 0., 0., 0., 0.,\n",
       "          0., 0., 0., 0., 0., 0., 0., 0., 0., 1., 0., 0., 0., 0., 0., 0., 0.,\n",
       "          0., 0., 0., 0., 0., 0., 0., 0., 0., 0., 0., 0., 0., 0., 0., 0., 0.,\n",
       "          0., 0., 0., 0., 0., 0.]]])"
      ]
     },
     "execution_count": 14,
     "metadata": {},
     "output_type": "execute_result"
    }
   ],
   "source": [
    "name_to_tensor('a A') # test again"
   ]
  },
  {
   "cell_type": "code",
   "execution_count": 15,
   "metadata": {},
   "outputs": [],
   "source": [
    "class RNN(nn.Module):    \n",
    "    def __init__(self, input_size, hidden_size, output_size):\n",
    "        super(RNN, self).__init__()\n",
    "        \n",
    "        self.hidden_size = hidden_size\n",
    "        self.i2h = nn.Linear(input_size + hidden_size, hidden_size)\n",
    "        self.i2o = nn.Linear(input_size + hidden_size, output_size)\n",
    "        self.softmax = nn.LogSoftmax(dim=1)\n",
    "        \n",
    "    def forward(self, input, hidden):\n",
    "        combined = torch.cat((input, hidden), 1)\n",
    "        hidden = self.i2h(combined)\n",
    "        output = self.i2o(combined)\n",
    "        output = self.softmax(output)\n",
    "        return output, hidden\n",
    "    \n",
    "    def initHidden(self): # used to init hidden state\n",
    "        return torch.zeros(1, self.hidden_size)"
   ]
  },
  {
   "cell_type": "code",
   "execution_count": 16,
   "metadata": {},
   "outputs": [],
   "source": [
    "n_hidden = 128\n",
    "n_languages = len(languages)"
   ]
  },
  {
   "cell_type": "code",
   "execution_count": 17,
   "metadata": {},
   "outputs": [],
   "source": [
    "rnn = RNN(n_letters, n_hidden, output_size = n_languages) # set up RNN"
   ]
  },
  {
   "cell_type": "code",
   "execution_count": 18,
   "metadata": {},
   "outputs": [],
   "source": [
    "iterations = 100000\n",
    "criterion = nn.NLLLoss()\n",
    "learning_rate = 0.005"
   ]
  },
  {
   "cell_type": "code",
   "execution_count": 19,
   "metadata": {},
   "outputs": [],
   "source": [
    "def output_to_language(output): # helper function to predict language\n",
    "    top_n, top_index = output.topk(1)\n",
    "    pred_i = top_index[0].item()\n",
    "    pred = languages[pred_i]\n",
    "    \n",
    "    return pred"
   ]
  },
  {
   "cell_type": "code",
   "execution_count": 20,
   "metadata": {},
   "outputs": [],
   "source": [
    "current_loss = 0\n",
    "all_losses = []"
   ]
  },
  {
   "cell_type": "code",
   "execution_count": 21,
   "metadata": {},
   "outputs": [
    {
     "name": "stdout",
     "output_type": "stream",
     "text": [
      "iters- 5000 5% (1.7204009294509888) Name- Stark Language- Japanese ✗ (German)\n",
      "iters- 10000 10% (0.036963462829589844) Name- Kawagishi Language- Japanese ✔\n",
      "iters- 15000 15% (2.841240406036377) Name- Thao Language- Chinese ✗ (Vietnamese)\n",
      "iters- 20000 20% (0.2618284225463867) Name- WÃ¤gner Language- German ✔\n",
      "iters- 25000 25% (1.217604398727417) Name- Koch Language- Czech ✗ (German)\n",
      "iters- 30000 30% (2.7171988487243652) Name- Smits Language- German ✗ (Dutch)\n",
      "iters- 35000 35% (0.0004425048828125) Name- Kunikida Language- Japanese ✔\n",
      "iters- 40000 40% (0.1998734474182129) Name- Acciaio Language- Italian ✔\n",
      "iters- 45000 45% (0.9182744026184082) Name- Roijakker Language- Dutch ✔\n",
      "iters- 50000 50% (0.02096271514892578) Name- Ohmiya Language- Japanese ✔\n",
      "iters- 55000 55% (2.849431037902832) Name- Duncan Language- Irish ✗ (Scottish)\n",
      "iters- 60000 60% (0.16409540176391602) Name- Kringos Language- Greek ✔\n",
      "iters- 65000 65% (0.16548871994018555) Name- Corti Language- Italian ✔\n",
      "iters- 70000 70% (1.6096282005310059) Name- Nagano Language- Italian ✗ (Japanese)\n",
      "iters- 75000 75% (0.0049800872802734375) Name- Kurofuji Language- Japanese ✔\n",
      "iters- 80000 80% (0.9196791648864746) Name- Vann Language- German ✔\n",
      "iters- 85000 85% (1.071253776550293) Name- RendÃ³n Language- Spanish ✔\n",
      "iters- 90000 90% (0.6810855865478516) Name- Wolf Language- German ✔\n",
      "iters- 95000 95% (0.026993274688720703) Name- Arnoni Language- Italian ✔\n",
      "iters- 100000 100% (0.10185956954956055) Name- Sapienti Language- Italian ✔\n"
     ]
    }
   ],
   "source": [
    "for iteration in range(1, iterations + 1):\n",
    "    i = random.randint(0, len(names_data) - 1) # pick at random from the data-set\n",
    "    \n",
    "    name = names_data.iloc[i][0] # pick the name at the randomly generated index\n",
    "    name_in_tensor = name_to_tensor(name) # encode name in one-hot form\n",
    "    \n",
    "    language = names_data.iloc[i][1] # access the language associated with the name in (i) row and index [1]\n",
    "    language_in_tensor = torch.tensor([list(languages).index(language)], dtype=torch.long) # set it up as tensor\n",
    "    \n",
    "    hidden = rnn.initHidden()\n",
    "    rnn.zero_grad()\n",
    "    \n",
    "    for i in range(name_in_tensor.size()[0]): # iterate through every character in the name tensor\n",
    "        output, hidden = rnn(name_in_tensor[i], hidden) # At each time instance pass in the current character and the previous hidden output to the RNN\n",
    "        \n",
    "    loss = criterion(output, language_in_tensor)\n",
    "    loss.backward()\n",
    "    \n",
    "    current_loss += loss.item()\n",
    "    \n",
    "    for p in rnn.parameters():\n",
    "        p.data.add_(-learning_rate, p.grad.data)\n",
    "        \n",
    "    if iteration % 5000 == 0:\n",
    "        pred = output_to_language(output)\n",
    "        \n",
    "        correct = '✔' if pred == language else '✗ (%s)' % language\n",
    "        \n",
    "        print('iters- %d %d%% (%s) Name- %s Language- %s %s' %(\n",
    "            iteration,\n",
    "            iteration/iterations*100,\n",
    "            loss.item(),\n",
    "            name, pred, correct))\n",
    "    \n",
    "    if iteration % 1000 == 0:\n",
    "        all_losses.append(current_loss / 1000)\n",
    "        current_loss = 0"
   ]
  },
  {
   "cell_type": "code",
   "execution_count": 22,
   "metadata": {},
   "outputs": [
    {
     "data": {
      "text/plain": [
       "[<matplotlib.lines.Line2D at 0x200860adf60>]"
      ]
     },
     "execution_count": 22,
     "metadata": {},
     "output_type": "execute_result"
    },
    {
     "data": {
      "image/png": "[encoded data removed]",
      "text/plain": [
       "<Figure size 432x288 with 1 Axes>"
      ]
     },
     "metadata": {
      "needs_background": "light"
     },
     "output_type": "display_data"
    }
   ],
   "source": [
    "plt.figure()\n",
    "plt.plot(all_losses)"
   ]
  },
  {
   "cell_type": "code",
   "execution_count": 23,
   "metadata": {},
   "outputs": [],
   "source": [
    "# confusion matrix for defining model accuracy\n",
    "n_confusion = 10000\n",
    "\n",
    "prediction = []\n",
    "actual = []\n",
    "\n",
    "for _ in range(n_confusion):\n",
    "    \n",
    "    i = random.randint(0, len(names_data) - 1) # pick at random from the data-set\n",
    "    \n",
    "    name = names_data.iloc[i][0] # pick the name at the randomly generated index\n",
    "    name_in_tensor = name_to_tensor(name) # encode name in one-hot form\n",
    "    \n",
    "    language = names_data.iloc[i][1] # access the language associated with the name in (i) row and index [1]\n",
    "    language_in_tensor = torch.tensor([list(languages).index(language)], dtype=torch.long) # set it up as tensor\n",
    "    \n",
    "    hidden = rnn.initHidden()\n",
    "    \n",
    "    for i in range(name_in_tensor.size()[0]): # iterate through every character in the name tensor\n",
    "        output, hidden = rnn(name_in_tensor[i], hidden) # At each time instance pass in the current character and the previous hidden output to the RNN\n",
    "        \n",
    "    pred = output_to_language(output)\n",
    "    \n",
    "    prediction.append(pred)\n",
    "    actual.append(language)"
   ]
  },
  {
   "cell_type": "code",
   "execution_count": 24,
   "metadata": {},
   "outputs": [],
   "source": [
    "confusion_matrix = ConfusionMatrix(actual, prediction) # confusion matrix from pandas ml library"
   ]
  },
  {
   "cell_type": "code",
   "execution_count": 25,
   "metadata": {},
   "outputs": [
    {
     "data": {
      "text/plain": [
       "<matplotlib.axes._subplots.AxesSubplot at 0x2008611cef0>"
      ]
     },
     "execution_count": 25,
     "metadata": {},
     "output_type": "execute_result"
    },
    {
     "data": {
      "image/png": "[encoded data removed]",
      "text/plain": [
       "<Figure size 648x576 with 2 Axes>"
      ]
     },
     "metadata": {
      "needs_background": "light"
     },
     "output_type": "display_data"
    }
   ],
   "source": [
    "confusion_matrix.plot()"
   ]
  }
 ],
 "metadata": {
  "kernelspec": {
   "display_name": "Python 3",
   "language": "python",
   "name": "python3"
  },
  "language_info": {
   "codemirror_mode": {
    "name": "ipython",
    "version": 3
   },
   "file_extension": ".py",
   "mimetype": "text/x-python",
   "name": "python",
   "nbconvert_exporter": "python",
   "pygments_lexer": "ipython3",
   "version": "3.7.3"
  }
 },
 "nbformat": 4,
 "nbformat_minor": 2
}
